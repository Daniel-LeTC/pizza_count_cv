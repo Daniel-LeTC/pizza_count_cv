# Verify GPU Pro access
!nvidia-smi

# Install required packages
!pip install ultralytics roboflow labelImg

# Mount Google Drive
from google.colab import drive
drive.mount('/content/drive')






import os
import getpass
from roboflow import Roboflow
from ultralytics import YOLO
from google.colab import userdata

ROBOFLOW_API_KEY = userdata.get('ROBOFLOW_API_KEY')





rf = Roboflow(api_key=ROBOFLOW_API_KEY)
# Project information
WORKSPACE_ID = "cv-annotation"
PROJECT_ID = "pizza_detect_then_count"
VERSION_NUMBER = 2  # Change this number if there's a newer version

try:
    # --- DEFENSE LAYER 1: CHECK WORKSPACE ---
    print(f"🔗 Connecting to workspace '{WORKSPACE_ID}'...")
    workspace = rf.workspace(WORKSPACE_ID)
    print(f"✓ Workspace connection successful: {workspace.name}")

    try:
        # --- DEFENSE LAYER 2: CHECK PROJECT ---
        print(f"🔗 Accessing project '{PROJECT_ID}'...")
        project = workspace.project(PROJECT_ID)
        print(f"✓ Project access successful: {project.name}")

        # --- FINAL STEP: DOWNLOAD DATASET ---
        print(f"📥 Downloading dataset version {VERSION_NUMBER}...")
        dataset = project.version(VERSION_NUMBER).download("yolov8")
        print(f"\n🎉 Dataset download completed successfully!")
        print(f"📁 Dataset saved at: {dataset.location}")

    except Exception as project_error:
        print(f"✗ ERROR ACCESSING PROJECT: {project_error}")
        print("\n--- TROUBLESHOOTING SUGGESTIONS ---")
        print("1. Verify that 'Project ID' is correctly set to 'pizza_detect_then_count'.")
        print("2. Ensure your API Key has access permissions to this project.")
        print("3. List all projects in workspace to verify:")
        workspace.list_projects()

except Exception as workspace_error:
    print(f"✗ ERROR CONNECTING TO WORKSPACE: {workspace_error}")
    print("\n--- TROUBLESHOOTING SUGGESTIONS ---")
    print("1. Verify that 'Workspace ID' is correctly set to 'cv-annotation'.")
    print("2. Ensure your API Key is correct and still valid.")
    print("3. Roboflow SDK on Colab may need upgrade: `!pip install --upgrade roboflow`")







# Check dataset data.yaml config

# In ra nội dung của file data.yaml để đảm bảo mọi thứ chính xác
# File này chứa đường dẫn tới các tập train/valid/test và thông tin class
try:
    with open(f"{dataset.location}/data.yaml", 'r') as f:
        print("=== Content of data.yaml: ===")
        print(f.read())
except Exception as e:
    print(f"✗ Cannot access file: data.yaml: {e}")






# Training YOLOv8

print("🚀 Starting model training...")

# Select base model for fine-tuning. 'yolov8s.pt' (small) is a balanced choice
# between speed and accuracy, very suitable for initial dataset.
model = YOLO('yolov8s.pt')

# Define results storage location on Google Drive
results_path = '/content/drive/MyDrive/pizza_project/training_results'

# Start training process
# Parameters optimized for Colab and our dataset
results = model.train(
    data=f'{dataset.location}/data.yaml',
    epochs=100,         # Train for 100 epochs for thorough learning
    imgsz=640,          # Standard input image size
    batch=16,           # Number of images processed per batch, suitable for Colab GPU
    device='cuda',      # Use GPU
    project=results_path, # Results directory on Drive
    name='pizza_detector_v1_53imgs_augmented' # Run name for easy management
)

print("\n🎉 Training complete!")
print(f"📊 Results saved to: {results.save_dir}")






# Stop above training

# Resume with other params
model = YOLO('/content/drive/MyDrive/pizza_project/training_results/pizza_detector_v1_53imgs_augmented/weights/last.pt')

results = model.train(
    resume=True,
    batch=32,  # Increase batch size
    workers=4,  # Reduce workers avoiding overhead
    project='/content/temp_results',  # Temporarily save at local runtime, copy to drive later
    save_period=10  # Save checkpoint every 10 epochs
)







# Load model from best epoch before NaN appeared
model = YOLO('/content/drive/MyDrive/pizza_project/training_results/pizza_detector_v1_53imgs_augmented/weights/best.pt')

# Restart training with stable configuration
results = model.train(
    data=f'{dataset.location}/data.yaml',
    epochs=50,  # Reduce epochs
    imgsz=640,
    batch=8,    # Reduce batch size to safe level
    device='cuda',
    amp=False,  # Disable mixed precision training
    project='/content/temp_results',
    name='pizza_detector_stable',
    lr0=0.001,  # Reduce learning rate
    patience=15 # Early stopping
)







# Copy results to Drive
!cp -r /content/temp_results/pizza_detector_stable /content/drive/MyDrive/pizza_project/training_results/
print("✅ Results copied to Google Drive!")






# View results and find best model

print("=== Training Results Summary ===")

# Use known path instead of results.save_dir
save_dir = '/content/temp_results/pizza_detector_stable'
print(f"Metrics and plots saved in: {save_dir}")
print("Please access the above directory to view charts like confusion_matrix.png and results.png")

# Path to best model weights file
best_model_path = os.path.join(save_dir, 'weights/best.pt')
print(f"\n👑 Best model saved at: {best_model_path}")

# Check if file exists
if os.path.exists(best_model_path):
    print("✅ Best model file exists!")
    print(f"📁 File size: {os.path.getsize(best_model_path) / (1024*1024):.1f} MB")
else:
    print("❌ Best model file not found!")

# Display final metrics
print(f"\n📊 Final Training Metrics:")
print(f"   • Precision: 98.8%")
print(f"   • Recall: 54.5%")
print(f"   • mAP50: 68.2%")
print(f"   • mAP50-95: 60.0%")






# Fine tuning existing model into v2
from ultralytics import YOLO

# Load previous model
model = YOLO("/content/drive/MyDrive/pizza_project/training_results/pizza_detector_stable/weights/best.pt")

# Fine-tune with lower learning rate
results = model.train(
    data=f'{dataset.location}/data.yaml',
    epochs=50,
    lr0=0.0001,                
    lrf=0.01,                  # Final learning rate
    momentum=0.937,            
    weight_decay=0.0005,       # Regularization
    warmup_epochs=3,           
    warmup_momentum=0.8,
    warmup_bias_lr=0.1,
    batch=4,                   # Reduce batch size avoiding memory issues
    imgsz=640,
    patience=15,               # Increase patience
    save=True,
    amp=False,                 # Turn of mixed precision avoiding overflow
    project="/content/drive/MyDrive/pizza_project/training_results",
    name="pizza_detector_v2_stable"
)






# Test v1
best_model = YOLO('/content/temp_results/pizza_detector_stable/weights/best.pt')

# Applied on some img
test_results = best_model.predict(
    source='/content/pizza_detect_then_count-1/test_model',  # Temporarily test folder
    save=True,
    project='/content/test_results',
    name='pizza_detection_test',
    conf=0.5  # Confidence threshold
)

print("🔍 Test results saved!")






import cv2
from ultralytics import YOLO
import ipywidgets as widgets
from IPython.display import display, Image
import threading
import time

class SmoothLiveDetector:
    def __init__(self, model_path, video_path):
        self.model = YOLO(model_path)
        self.cap = cv2.VideoCapture(video_path)
        self.running = False

        self.image_widget = widgets.Image(
            format='jpeg',
            width=640,
            height=480,
        )
        self.status_widget = widgets.HTML(value="Ready to start...")

        # Layout
        self.container = widgets.VBox([
            self.status_widget,
            self.image_widget
        ])

    def start_detection(self):
        self.running = True
        display(self.container)

        frame_count = 0
        start_time = time.time()

        while self.running and self.cap.isOpened():
            success, frame = self.cap.read()

            if success:
                # Detection
                results = self.model(frame, conf=0.4, verbose=False)
                annotated_frame = results[0].plot()
                pizza_count = len(results[0].boxes) if results[0].boxes is not None else 0

                # Convert to JPEG
                _, buffer = cv2.imencode('.jpg', annotated_frame)

                # Update widget 
                self.image_widget.value = buffer.tobytes()

                # Update status
                frame_count += 1
                elapsed = time.time() - start_time
                fps = frame_count / elapsed if elapsed > 0 else 0

                self.status_widget.value = f"""
                <h3>🔴 LIVE Pizza Detection</h3>
                <p><strong>Frame:</strong> {frame_count}</p>
                <p><strong>Pizzas detected:</strong> {pizza_count}</p>
                <p><strong>FPS:</strong> {fps:.1f}</p>
                """

                # Smooth frame rate
                time.sleep(0.05)  # 20 FPS
            else:
                break

        self.cap.release()
        self.status_widget.value = "<h3>✅ Detection completed</h3>"

    def stop(self):
        self.running = False

detector = SmoothLiveDetector(
    '/content/temp_results/pizza_detector_stable/weights/best.pt',
    '/content/pizza_detect_then_count-1/test_model/test_videos/1467_CH04_20250607180000_190000.mp4'
)

detector.start_detection()




