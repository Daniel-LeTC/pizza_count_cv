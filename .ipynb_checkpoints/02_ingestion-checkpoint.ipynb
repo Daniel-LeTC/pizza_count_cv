{
 "cells": [
  {
   "cell_type": "code",
   "execution_count": null,
   "id": "b667c5ef",
   "metadata": {},
   "outputs": [],
   "source": [
    "import os\n",
    "import subprocess\n",
    "import sys\n",
    "from pathlib import Path\n",
    "\n",
    "from dotenv import load_dotenv\n",
    "from roboflow import Roboflow"
   ]
  },
  {
   "cell_type": "code",
   "execution_count": null,
   "id": "5c7ac7f5",
   "metadata": {},
   "outputs": [],
   "source": [
    "# Load .env file from project root\n",
    "load_dotenv()\n",
    "\n",
    "# API key from environment variable\n",
    "api_key = os.getenv(\"ROBOFLOW_API_KEY\")\n",
    "\n",
    "if not api_key:\n",
    "    print(\"✗ Error: ROBOFLOW_API_KEY not found in .env file\")\n",
    "    print(\"Check your .env and ensure:\")\n",
    "    print(\"ROBOFLOW_API_KEY=your_api_key_here\")\n",
    "else:\n",
    "    print(\"✓ Load ROBOFLOW_API_KEY from environment variables\")\n",
    "\n",
    "    # Start Roboflow client\n",
    "    rf = Roboflow(api_key=api_key)\n",
    "    workspace = rf.workspace()\n",
    "    print(f\"✓ Successful in : {workspace.name}\")"
   ]
  }
 ],
 "metadata": {
  "kernelspec": {
   "display_name": "Python (dsenv)",
   "language": "python",
   "name": "dsenv"
  },
  "language_info": {
   "codemirror_mode": {
    "name": "ipython",
    "version": 3
   },
   "file_extension": ".py",
   "mimetype": "text/x-python",
   "name": "python",
   "nbconvert_exporter": "python",
   "pygments_lexer": "ipython3",
   "version": "3.12.7"
  }
 },
 "nbformat": 4,
 "nbformat_minor": 5
}
